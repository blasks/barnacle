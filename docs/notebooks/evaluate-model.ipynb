{
 "cells": [
  {
   "cell_type": "markdown",
   "metadata": {},
   "source": [
    "# Evaluate Model Performance\n",
    "\n",
    "This notebook demonstrates how to evaluate the performance of a sparse tensor decomposition model fit to simulated data by comparing the model components to the ground truth components used to generate the simulation. Model performance will be evaluated on the basis of five metrics: relative sum of squared errors (SSE), factor match score (FMS), precision, recall, and F1 score."
   ]
  },
  {
   "cell_type": "code",
   "execution_count": 1,
   "metadata": {},
   "outputs": [],
   "source": [
    "# imports\n",
    "\n",
    "import numpy as np\n",
    "import scipy\n",
    "import tensorly as tl\n",
    "from barnacle import (\n",
    "    visualize_3d_tensor, \n",
    "    simulated_sparse_tensor, \n",
    "    plot_factors_heatmap\n",
    ")\n"
   ]
  },
  {
   "cell_type": "code",
   "execution_count": 2,
   "metadata": {},
   "outputs": [
    {
     "name": "stdout",
     "output_type": "stream",
     "text": [
      "5\n",
      "5\n",
      "5\n"
     ]
    }
   ],
   "source": [
    "# generate simulated data tensor\n",
    "\n",
    "true_rank = 5\n",
    "true_shape = [15, 20, 10]\n",
    "true_densities = [.4, .2, .6]\n",
    "\n",
    "# re-seed simulated data until all factor matrices are full rank\n",
    "full_rank = False\n",
    "while not full_rank:\n",
    "    # generate simulated tensor\n",
    "    sim_tensor = simulated_sparse_tensor(\n",
    "        shape=true_shape,                \n",
    "        rank=true_rank,                         \n",
    "        densities=true_densities, \n",
    "        factor_dist_list=[\n",
    "            scipy.stats.uniform(), \n",
    "            scipy.stats.uniform(loc=-1, scale=2),   \n",
    "            scipy.stats.uniform()\n",
    "        ], \n",
    "        random_state=9481\n",
    "    )\n",
    "    # check that all factors are full rank\n",
    "    full_rank = np.all([np.linalg.matrix_rank(factor) == true_rank for factor in sim_tensor.factors])\n",
    "\n",
    "# ensure that factor matrices are full rank\n",
    "for factor in sim_tensor.factors:\n",
    "    print(np.linalg.matrix_rank(factor))\n",
    "    "
   ]
  },
  {
   "cell_type": "code",
   "execution_count": null,
   "metadata": {},
   "outputs": [],
   "source": []
  }
 ],
 "metadata": {
  "kernelspec": {
   "display_name": "Python 3 (ipykernel)",
   "language": "python",
   "name": "python3"
  },
  "language_info": {
   "codemirror_mode": {
    "name": "ipython",
    "version": 3
   },
   "file_extension": ".py",
   "mimetype": "text/x-python",
   "name": "python",
   "nbconvert_exporter": "python",
   "pygments_lexer": "ipython3",
   "version": "3.11.6"
  }
 },
 "nbformat": 4,
 "nbformat_minor": 4
}
